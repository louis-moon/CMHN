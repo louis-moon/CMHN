{
 "cells": [
  {
   "cell_type": "markdown",
   "metadata": {
    "nbpresent": {
     "id": "bc423121-dc96-4712-829b-43480027e1f3"
    },
    "tags": []
   },
   "source": [
    "# Sherlock Mystery\n",
    "\n",
    "Solve a series of mysteries as described below. To solve these you must integrate all of the skills you have learned in this class.\n",
    "\n",
    "If you decide to make a separate notebook or python script(s) for each question, then name them with the appropriate prefix (e.g., q1). You may find it useful to write a utilities file with some common functions or variables you may want to reuse throughout the assignment, as we have done with the `utils.py` file released with each assignment. You should then commit these files along with this notebook to document your answers. You may also want to save intermediate data throughout this process; feel free to do so and note where you do this in your code.\n",
    "\n",
    "You must answer all 4 questions. Your score out of 30 points will depend on the following criteria:\n",
    "\n",
    ">**Answer** (6 points, 2 points each for Q2, Q3, Q4): Did you get the right answer?  \n",
    ">**Approach** (16 points, 4 points for each question): Does the code reproduce your answer and was your approach sound, innovative, and efficient?  \n",
    ">**Clarity** (8 points, 2 points for each question): Is the code readable, clearly commented, and well-structured?\n",
    "\n",
    "**Due Date:** The final project is due back on **May 3 at 11:59pm**. Whatever is committed to your assignment repo at that time will be submitted automatically. If you complete the assignment early, please Slack us so we can begin grading. Final grades are due in some cases within 48 hours, so late submissions will not be accepted.\n",
    "\n",
    "You should think about your final submission as a \"tutorial\" for somebody learning these techniques. The quality and clarity of your code should meet the standard of being published publicly. Integrate all the best coding practices you have learned in this course in completing these assignments. \n",
    "\n",
    "Science is a collective enterprise and thus you are welcome to talk with your peers. However, you must write your own code, provide your own explanations and comments, and generate your final answers on your own.\n",
    "\n",
    "<div class=\"alert alert-block alert-warning\">\n",
    "\n",
    "<strong>Important:</strong> The dataset we are using has been published in several articles, meaning that there are ways to find or verify some of the answers by looking at published data and labels. Although we encourage you to read these papers, please only look at the data and labels provided on Grace. Any evidence of doing otherwise, including providing an answer without code that can re-generate it from the data/labels we provided, will result in a score of zero.\n",
    "</div>\n",
    "\n",
    "When committing files to github, make sure you do not commit any of the data or results you generate. These can get prohibitively large and make it hard for you to use git. To avoid this, **only upload notebooks and scripts**."
   ]
  },
  {
   "cell_type": "markdown",
   "metadata": {
    "tags": []
   },
   "source": [
    "## Dataset\n",
    "\n",
    "Participants watched an episode of BBC's Sherlock in two parts during fMRI. You may watch the parts in the links below, but do not save, post, or share these copyrighted files:\n",
    "\n",
    "Part 1: https://1drv.ms/v/s!Aobi2ryypFQCgpZ4UTJfrzPgJBO1jw\n",
    "\n",
    "Part 2: https://1drv.ms/v/s!Aobi2ryypFQCgpoabssIiGezcNL1zA\n",
    "\n",
    "The length of the scans are (after 20 TRs were cropped from beginning):\n",
    "\n",
    "> Part 1: 946 TRs  \n",
    "> Part 2: 1030 TRs\n",
    "\n",
    "For the questions below, we will provide you with the full data (scans and labels) from Part 1 and partial data from Part 2.\n",
    "\n",
    "All of these data are stored here: `/gpfs/gibbs/project/cmhn/data/Sherlock_processed/`\n",
    "\n",
    "**Data:** Data for all subjects, part 1, are stored in the `part_1` directory. Partial data specific to questions 2, 3, & 4 are explained with their respective questions. \n",
    "\n",
    "**Masks:** We have provided the following masks that *may* be useful to you, stored in the `masks` directory:\n",
    "> `pmc_nn`: posterior medial cortex  \n",
    "> `ddmn_mpfc`: medial pre-frontal cortex  \n",
    "> `aud_early`: early auditory cortex  \n",
    "> `a1_rev`: the first auditory area  \n",
    "> `early_visual`: early visual cortex  \n",
    "> `intersect_mask`: whole-brain mask of voxels common to all subjects  \n",
    "> `MNI152_T1_3mm_brain_mask`: reference MNI mask\n",
    "\n",
    "**Regressor information:** The regressor_file.csv contains extremely useful and detailed information for describing and labeling *both* parts of the movie.\n",
    "\n",
    "<div class=\"alert alert-block alert-info\">\n",
    "\n",
    "<strong>Important:</strong> These TRs have already been shifted to align the peak HRF with the labels (i.e., the label for time point *t* corresponds to TR *t* in the processed data).\n",
    "</div>\n",
    "\n"
   ]
  },
  {
   "cell_type": "markdown",
   "metadata": {
    "tags": []
   },
   "source": [
    "## 1. Classification\n",
    "\n",
    "Using the regressor file, build classifiers of movie content (e.g., is the scene indoor or outdoor, is Sherlock present on the screen, and many other options). Without double-dipping or overfitting, you should aim to get the highest classification accuracy possible, using the training sample of data (Part 1). It is up to you to choose how to use/group the labels, what mask to use, etc.\n",
    "\n",
    "In your answer, you should present three distinct classifiers, **each focusing on a different regressor**, that yield promising results (i.e., where you think the classifier is actually picking up some signal). **Importantly, this question will be graded purely for approach and clarity, not for accuracy or performance**. You should be motivated to come up with classifiers that are actually useful, because you will need accurate classifiers to decode the mystery segment in Question 3. You are welcome to include more than three classifiers in your answer, but if so, you should tell us which of the three you would like us to grade. \n",
    "\n",
    "Some important notes: \n",
    "\n",
    "1) Keep in mind that nearby TRs are highly correlated; as such, methods like StratifiedShuffleSplit that can assign adjacent TRs to training and test sets are effectively double-dipping, so you should avoid using these methods.\n",
    "\n",
    "2) If the labels are not balanced (within and across folds), this can bias results; for example, if 99% of the TRs have a label of 1 and 1% have a value of 0, then the classifier can achieve 99% accuracy simply by guessing “1” all of the time. For this reason, you should strive to have the labels be relatively balanced. However, in real-world data, this can be difficult or impossible to achieve; it is OK to run unbalanced analyses, but keep the unbalanced nature of the labels in mind when you are assessing how good performance is for a particular classifier, or you can create functions to balance the labels during training.\n",
    "\n",
    "3) Keep in mind that you can transform the regressors to improve balance. e.g., the “arousal” regressor has 5 levels, but you can binarize it so that it has two roughly-equally-balanced groups instead of 5 imbalanced groups.\n",
    "\n",
    "4) If you find a particularly good approach, we encourage you to share a verbal description of the approach on Slack so others can build on your idea. Just make sure that you only share a verbal description of the approach and not the actual code. And if you read about a cool approach on Slack, feel free to try variants of that approach for your own work - that is completely allowed.\n",
    "\n",
    "\n",
    "**Data directory:** `/gpfs/gibbs/project/cmhn/data/Sherlock_processed/part_1/`\n"
   ]
  },
  {
   "cell_type": "markdown",
   "metadata": {},
   "source": [
    "### Summarize your approach to classification\n",
    "What three different regressors did you choose for your classifier? What kind of data did you use as input to the classifier? What classifier parameters did you use and why?"
   ]
  },
  {
   "cell_type": "markdown",
   "metadata": {},
   "source": [
    "**Answer:** The three different regressors I chose for my classifier were Arousal, Segment Number, and Start Time. For each classifier, the input data consists of the chosen regressor, and the target labels are binary. I used the default parameters for logistic regression to keep it simple."
   ]
  },
  {
   "cell_type": "markdown",
   "metadata": {
    "tags": []
   },
   "source": [
    "### Include your code below \n",
    "Please make sure that your code is commented. If you performed analyses outside of this notebook (e.g., in a python script that needed more computational resources) please note that here and be sure to upload any accompanying notebook(s) or script(s) (submissions without accompanying code will be given zero points)."
   ]
  },
  {
   "cell_type": "code",
   "execution_count": 1,
   "metadata": {},
   "outputs": [
    {
     "name": "stdout",
     "output_type": "stream",
     "text": [
      "Classifier 1 (Arousal):\n",
      "Accuracy: 0.7874\n",
      "Precision: 0.7874\n",
      "Recall: 1.0000\n",
      "F1 score: 0.8810\n",
      "\n",
      "Classifier 2 (Segment Number):\n",
      "Accuracy: 0.5908\n",
      "Precision: 0.5908\n",
      "Recall: 1.0000\n",
      "F1 score: 0.7427\n",
      "\n",
      "Classifier 3 (Start Time (s)):\n",
      "Accuracy: 0.5135\n",
      "Precision: 0.3899\n",
      "Recall: 0.4170\n",
      "F1 score: 0.2890\n"
     ]
    },
    {
     "name": "stderr",
     "output_type": "stream",
     "text": [
      "/gpfs/gibbs/project/cmhn/share/conda_envs/mybrainiak/lib/python3.7/site-packages/sklearn/metrics/_classification.py:1318: UndefinedMetricWarning: Precision is ill-defined and being set to 0.0 due to no predicted samples. Use `zero_division` parameter to control this behavior.\n",
      "  _warn_prf(average, modifier, msg_start, len(result))\n",
      "/gpfs/gibbs/project/cmhn/share/conda_envs/mybrainiak/lib/python3.7/site-packages/sklearn/metrics/_classification.py:1318: UndefinedMetricWarning: Precision is ill-defined and being set to 0.0 due to no predicted samples. Use `zero_division` parameter to control this behavior.\n",
      "  _warn_prf(average, modifier, msg_start, len(result))\n"
     ]
    }
   ],
   "source": [
    "import os\n",
    "import numpy as np\n",
    "import pandas as pd\n",
    "from sklearn.linear_model import LogisticRegression\n",
    "from sklearn.model_selection import StratifiedKFold\n",
    "from sklearn.metrics import accuracy_score, f1_score, precision_score, recall_score\n",
    "from sklearn.preprocessing import LabelEncoder\n",
    "\n",
    "# define a function to evaluate the model using cross-validation\n",
    "def evaluate_model(model, X, y, cv):\n",
    "    accuracy = []\n",
    "    precision = []\n",
    "    recall = []\n",
    "    f1 = []\n",
    "    \n",
    "    for train_index, test_index in cv.split(X, y):\n",
    "        X_train, X_test = X.iloc[train_index], X.iloc[test_index]\n",
    "        y_train, y_test = y.iloc[train_index], y.iloc[test_index]\n",
    "        \n",
    "        model.fit(X_train, y_train)\n",
    "        y_pred = model.predict(X_test)\n",
    "        \n",
    "        accuracy.append(accuracy_score(y_test, y_pred))\n",
    "        precision.append(precision_score(y_test, y_pred))\n",
    "        recall.append(recall_score(y_test, y_pred))\n",
    "        f1.append(f1_score(y_test, y_pred))\n",
    "    \n",
    "    return np.mean(accuracy), np.mean(precision), np.mean(recall), np.mean(f1)\n",
    "\n",
    "# read the CSV file\n",
    "os.chdir('/gpfs/gibbs/project/cmhn/data/Sherlock_processed')\n",
    "regressor_data = pd.read_csv('regressor_file.csv')\n",
    "\n",
    "# drop rows with missing values\n",
    "regressor_data = regressor_data.dropna(subset=['Arousal', 'valence', 'Space-In/Outdoor', 'Music Presence '])\n",
    "\n",
    "# prepare data for each classifier\n",
    "X_arousal = regressor_data[['Arousal']]\n",
    "y_arousal = (regressor_data['valence'] == '+').astype(int)\n",
    "\n",
    "X_segment = regressor_data[['Segment Number']]\n",
    "y_segment = (regressor_data['Music Presence '] == 'Yes').astype(int)\n",
    "\n",
    "X_start = regressor_data[['Start Time (s) ']]\n",
    "y_start = (regressor_data['Who-N/G/M'] == 'M').astype(int)\n",
    "\n",
    "# initialize the logistic regression model\n",
    "log_reg_arousal = LogisticRegression()\n",
    "log_reg_space = LogisticRegression()\n",
    "log_reg_music = LogisticRegression()\n",
    "\n",
    "# create StratifiedKFold cross-validator\n",
    "cv = StratifiedKFold(n_splits=5)\n",
    "\n",
    "# evaluate each classifier\n",
    "accuracy_arousal, precision_arousal, recall_arousal, f1_arousal = evaluate_model(log_reg_arousal, X_arousal, y_arousal, cv)\n",
    "accuracy_space, precision_space, recall_space, f1_space = evaluate_model(log_reg_space, X_segment, y_segment, cv)\n",
    "accuracy_music, precision_music, recall_music, f1_music = evaluate_model(log_reg_music, X_start, y_start, cv)\n",
    "\n",
    "# print results for each classifier\n",
    "print(\"Classifier 1 (Arousal):\")\n",
    "print(f'Accuracy: {accuracy_arousal:.4f}')\n",
    "print(f'Precision: {precision_arousal:.4f}')\n",
    "print(f'Recall: {recall_arousal:.4f}')\n",
    "print(f'F1 score: {f1_arousal:.4f}')\n",
    "print(\"\\nClassifier 2 (Segment Number):\")\n",
    "print(f'Accuracy: {accuracy_space:.4f}')\n",
    "print(f'Precision: {precision_space:.4f}')\n",
    "print(f'Recall: {recall_space:.4f}')\n",
    "print(f'F1 score: {f1_space:.4f}')\n",
    "print(\"\\nClassifier 3 (Start Time (s)):\")\n",
    "print(f'Accuracy: {accuracy_music:.4f}')\n",
    "print(f'Precision: {precision_music:.4f}')\n",
    "print(f'Recall: {recall_music:.4f}')\n",
    "print(f'F1 score: {f1_music:.4f}')"
   ]
  },
  {
   "cell_type": "markdown",
   "metadata": {},
   "source": [
    "## 2. Mystery Segment Matching\n",
    "\n",
    "For participants 2 through 17, you are given the first 300 TRs (450s) of continuous data from viewing part 2 of the movie. For participant 1, you have just a mystery segment: a 30-TR (45s) chunk pulled from those same 300 TRs of the movie. Your goal is to figure out _when_ in those first 300 TRs your mystery segment begins, based on the data from all of the _other_ participants. Your answer will be the starting TR of the 30-TR mystery segment, which is some timepoint between 1 and 270. \n",
    "\n",
    "**Data directory:** Data can be found in `/gpfs/gibbs/project/cmhn/data/Sherlock_processed/mystery_segments_q2/`. Remember, participant 1 is a volume of 30 TRs, and all other participants are volumes of 300 TRs."
   ]
  },
  {
   "cell_type": "markdown",
   "metadata": {},
   "source": [
    "### Report the starting TR of the mystery epoch.\n",
    "Justify your response with supporting evidence."
   ]
  },
  {
   "cell_type": "markdown",
   "metadata": {},
   "source": [
    "**Answer:** The starting TR of the mystery epoch (12) can be determined by finding the highest correlation between the mystery segment and 30-TR segments from other participants' data. The most common starting TR across participants is marked as the best estimate for when the mystery segment begins."
   ]
  },
  {
   "cell_type": "markdown",
   "metadata": {},
   "source": [
    "### Include your code below\n",
    "Please make sure that your code is commented. If you performed analyses outside of this notebook (e.g., in a python script that needed more computational resources) please note that here and be sure to upload any accompanying notebook(s) or script(s) (submissions without accompanying code will be given zero points)."
   ]
  },
  {
   "cell_type": "code",
   "execution_count": 2,
   "metadata": {},
   "outputs": [
    {
     "name": "stdout",
     "output_type": "stream",
     "text": [
      "The starting TR of the mystery epoch: 12\n"
     ]
    }
   ],
   "source": [
    "import nibabel as nib\n",
    "\n",
    "def load_data(subject_id):\n",
    "    file_path = f\"/gpfs/gibbs/project/cmhn/data/Sherlock_processed/mystery_segments_q2/sub-{subject_id}_segment_q2.nii\"\n",
    "    img = nib.load(file_path)\n",
    "    return img.get_fdata()\n",
    "\n",
    "def correlate_segments(mystery_data, participant_data, num_TRs):\n",
    "    correlations = []\n",
    "    for i in range(num_TRs - mystery_data.shape[-1] + 1):\n",
    "        segment = participant_data[..., i:i+mystery_data.shape[-1]]\n",
    "        corr = np.corrcoef(mystery_data.flatten(), segment.flatten())[0, 1]\n",
    "        correlations.append(corr)\n",
    "    return correlations\n",
    "\n",
    "# load mystery segment data for participant 1\n",
    "mystery_data = load_data(\"01\")\n",
    "\n",
    "# load data for participants 2 to 17\n",
    "participants_data = [load_data(f\"{i:02d}\") for i in range(2, 18)]\n",
    "\n",
    "# find the starting TR with the highest correlation for each participant\n",
    "best_starting_TRs = []\n",
    "for participant_data in participants_data:\n",
    "    correlations = correlate_segments(mystery_data, participant_data, 300)\n",
    "    best_starting_TR = np.argmax(correlations) + 1\n",
    "    best_starting_TRs.append(best_starting_TR)\n",
    "\n",
    "# find the most common starting TR\n",
    "starting_TR = max(set(best_starting_TRs), key=best_starting_TRs.count)\n",
    "\n",
    "print(f\"The starting TR of the mystery epoch: {starting_TR}\")"
   ]
  },
  {
   "cell_type": "markdown",
   "metadata": {},
   "source": [
    "## 3. Mystery Segment Decoding\n",
    "\n",
    "You will be given a mystery segment of 100 TRs from all participants in Part 2 of the movie. All participants' volumes are for the same 100 TRs, and you must figure out when in the movie this epoch occurred. Note that this segment does not overlap with the 300 TRs used in Question 2 - that means the starting TR could be between TRs 301 and 930. To determine the location of the mystery segment, use the classifiers you developed in Question 1 to make predictions about regressors for the mystery segment. Then, identify the location of the mystery segment by comparing the predicted regressors to the actual regressors for Part 2 (provided in the regressors file) and seeing what position of the mystery segment yields the best match between predicted and actual regressors. You need to provide code that does this matching and also quantitative results that justify your choice of mystery segment location. \n",
    "\n",
    "Again, please do not directly share your guess about the mystery segment with other students (it’s fine to share your ideas about analysis approaches with other students, but don’t share the final answer).\n",
    "\n",
    "**Data directory:** Data can be found in `/gpfs/gibbs/project/cmhn/data/Sherlock_processed/mystery_segments_q3/`.\n"
   ]
  },
  {
   "cell_type": "markdown",
   "metadata": {},
   "source": [
    "### Report the starting TR of the mystery epoch.\n",
    "Justify your response with supporting evidence."
   ]
  },
  {
   "cell_type": "markdown",
   "metadata": {},
   "source": [
    "**Answer:** The starting TR of the mystery epoch is 859, which was determined by finding the best match between predicted and actual regressors. The highest match score of 122 supports this choice, indicating that the mystery segment aligns best with the actual regressors at TR 859."
   ]
  },
  {
   "cell_type": "markdown",
   "metadata": {},
   "source": [
    "### Include your code below\n",
    "Please make sure that your code is commented. If you performed analyses outside of this notebook (e.g., in a python script that needed more computational resources) please note that here and be sure to upload any accompanying notebook(s) or script(s) (submissions without accompanying code will be given zero points)."
   ]
  },
  {
   "cell_type": "code",
   "execution_count": 3,
   "metadata": {},
   "outputs": [
    {
     "name": "stdout",
     "output_type": "stream",
     "text": [
      "Best match starting TR: 859\n",
      "Best match score: 122\n"
     ]
    },
    {
     "name": "stderr",
     "output_type": "stream",
     "text": [
      "/gpfs/gibbs/project/cmhn/share/conda_envs/mybrainiak/lib/python3.7/site-packages/sklearn/base.py:451: UserWarning: X does not have valid feature names, but LogisticRegression was fitted with feature names\n",
      "  \"X does not have valid feature names, but\"\n",
      "/gpfs/gibbs/project/cmhn/share/conda_envs/mybrainiak/lib/python3.7/site-packages/sklearn/base.py:451: UserWarning: X does not have valid feature names, but LogisticRegression was fitted with feature names\n",
      "  \"X does not have valid feature names, but\"\n",
      "/gpfs/gibbs/project/cmhn/share/conda_envs/mybrainiak/lib/python3.7/site-packages/sklearn/base.py:451: UserWarning: X does not have valid feature names, but LogisticRegression was fitted with feature names\n",
      "  \"X does not have valid feature names, but\"\n",
      "/gpfs/gibbs/project/cmhn/share/conda_envs/mybrainiak/lib/python3.7/site-packages/ipykernel_launcher.py:25: SettingWithCopyWarning: \n",
      "A value is trying to be set on a copy of a slice from a DataFrame.\n",
      "Try using .loc[row_indexer,col_indexer] = value instead\n",
      "\n",
      "See the caveats in the documentation: https://pandas.pydata.org/pandas-docs/stable/user_guide/indexing.html#returning-a-view-versus-a-copy\n",
      "/gpfs/gibbs/project/cmhn/share/conda_envs/mybrainiak/lib/python3.7/site-packages/ipykernel_launcher.py:26: SettingWithCopyWarning: \n",
      "A value is trying to be set on a copy of a slice from a DataFrame.\n",
      "Try using .loc[row_indexer,col_indexer] = value instead\n",
      "\n",
      "See the caveats in the documentation: https://pandas.pydata.org/pandas-docs/stable/user_guide/indexing.html#returning-a-view-versus-a-copy\n"
     ]
    }
   ],
   "source": [
    "# load the mystery segment data\n",
    "mystery_data_dir = \"/gpfs/gibbs/project/cmhn/data/Sherlock_processed/mystery_segments_q3/\"\n",
    "mystery_data = {}\n",
    "\n",
    "for file in os.listdir(mystery_data_dir):\n",
    "    if (file.split('_')[0][0:3] == 'sub'):\n",
    "        participant_id = file.split('_')[0][4:]\n",
    "    else:\n",
    "        pass\n",
    "    data = nib.load(os.path.join(mystery_data_dir, file)).get_fdata()\n",
    "    # preprocess the 4D data by taking the mean across the last three dimensions\n",
    "    preprocessed_data = data.mean(axis=(1, 2, 3))\n",
    "    mystery_data[participant_id] = preprocessed_data\n",
    "\n",
    "# compute predicted regressors for the mystery segment using the classifiers from Question 1\n",
    "predicted_arousal = log_reg_arousal.predict(mystery_data['02'][:, np.newaxis])\n",
    "predicted_space = log_reg_space.predict(mystery_data['02'][:, np.newaxis])\n",
    "predicted_music = log_reg_music.predict(mystery_data['02'][:, np.newaxis])\n",
    "\n",
    "# read the actual regressors for Part 2 from the regressor file\n",
    "regressor_data = pd.read_csv('regressor_file.csv')\n",
    "part2_regressor_data = regressor_data[regressor_data['Start TR'] >= 301]\n",
    "\n",
    "# convert 'Space-In/Outdoor' and 'Music Presence' to binary format\n",
    "part2_regressor_data['Space-In/Outdoor'] = (part2_regressor_data['Space-In/Outdoor'] == 'Indoor').astype(int)\n",
    "part2_regressor_data['Music Presence '] = (part2_regressor_data['Music Presence '] == 'Yes').astype(int)\n",
    "\n",
    "# compare the predicted regressors to the actual regressors and find the best match\n",
    "best_match_score = 0\n",
    "best_match_start_tr = None\n",
    "\n",
    "for start_tr in range(301, 931 - len(predicted_arousal) + 1):\n",
    "    match_score = 0\n",
    "    actual_arousal = part2_regressor_data.loc[start_tr - 1:start_tr - 1 + len(predicted_arousal) - 1, 'Arousal'].values\n",
    "    actual_space = part2_regressor_data.loc[start_tr - 1:start_tr - 1 + len(predicted_space) - 1, 'Space-In/Outdoor'].values\n",
    "    actual_music = part2_regressor_data.loc[start_tr - 1:start_tr - 1 + len(predicted_music) - 1, 'Music Presence '].values\n",
    "    \n",
    "    match_score += np.sum(predicted_arousal == actual_arousal)\n",
    "    match_score += np.sum(predicted_space == actual_space)\n",
    "    match_score += np.sum(predicted_music == actual_music)\n",
    "    \n",
    "    if match_score > best_match_score:\n",
    "        best_match_score = match_score\n",
    "        best_match_start_tr = start_tr\n",
    "\n",
    "print(f\"Best match starting TR: {best_match_start_tr}\")\n",
    "print(f\"Best match score: {best_match_score}\")"
   ]
  },
  {
   "cell_type": "markdown",
   "metadata": {},
   "source": [
    "## 4. Mystery Subjects \n",
    "\n",
    "You will be given a segment of 600 TRs from all participants in Part 2, but where the participant names have been scrambled. The time points and voxel orders are consistent across participants. The participants are named from A-Q and you must make your best guess as to the corresponding participant numbers. To help you with this, some participant labels have already been assigned.  \n",
    "\n",
    "This question is hard conceptually, but you have all of the tools you need. SRM will be useful but you are welcome to take any valid approach from class. Note that SRM is probabilistic so we highly suggest using a random seed. If you can accurately match the mystery subject labels for A and Q (the subjects we number below) then your analysis is probably on the right track. If you can get at least 4 other mystery subject labels correct (6/17 total), you will receive full credit for the answer component of the grade.  \n",
    "\n",
    "**Data directory:** The data can be found in: `/gpfs/gibbs/project/cmhn/data/Sherlock_processed/mystery_subjects_q4/`  "
   ]
  },
  {
   "cell_type": "markdown",
   "metadata": {},
   "source": [
    "### Report the mystery subject labels \n",
    "Explain how you got to this answer and note if you are only confident on a few subjects, explaining why this may be."
   ]
  },
  {
   "cell_type": "markdown",
   "metadata": {},
   "source": [
    "**A:** 6         \n",
    "**B:** 11  \n",
    "**C:** 13  \n",
    "**D:** 03  \n",
    "**E:** 08  \n",
    "**F:** 02  \n",
    "**G:** 15  \n",
    "**H:** 15  \n",
    "**I:** 11  \n",
    "**J:** 11  \n",
    "**K:** 11  \n",
    "**L:** 15  \n",
    "**M:** 11  \n",
    "**N:** 15  \n",
    "**O:** 13  \n",
    "**P:** 08  \n",
    "**Q:** 4 \n",
    "\n",
    "I am not confident in my labels as my calculated correlations did not accurately match subjects A and Q."
   ]
  },
  {
   "cell_type": "markdown",
   "metadata": {},
   "source": [
    "### Include your code below\n",
    "Please make sure that your code is commented. If you performed analyses outside of this notebook (e.g., in a python script that needed more computational resources) please note that here and be sure to upload any accompanying notebook(s) or script(s) (submissions without accompanying code will be given zero points)."
   ]
  },
  {
   "cell_type": "code",
   "execution_count": 4,
   "metadata": {},
   "outputs": [
    {
     "name": "stdout",
     "output_type": "stream",
     "text": [
      "Mystery subject labels: [13, 11, 13, 3, 8, 2, 15, 15, 11, 11, 11, 15, 11, 15, 13, 8, 11]\n"
     ]
    }
   ],
   "source": [
    "import re\n",
    "from brainiak.funcalign.srm import SRM\n",
    "from sklearn.metrics import pairwise_distances\n",
    "\n",
    "np.random.seed(0)\n",
    "\n",
    "def load_known_subjects_data(data_dir):\n",
    "    subject_data = []\n",
    "    files = sorted(os.listdir(data_dir), key=lambda x: int(re.search(r'\\d+', x).group()))\n",
    "    for file in files:\n",
    "        if file.startswith(\"sub\"):\n",
    "            data = nib.load(os.path.join(data_dir, file)).get_fdata()\n",
    "            data = data[..., :300]  # Keep only the first 300 TRs\n",
    "            if data.shape[-1] == 30:  # Check if there are only 30 TRs\n",
    "                padded_data = np.zeros(data.shape[:3] + (300,))\n",
    "                padded_data[..., :30] = data\n",
    "                data = padded_data\n",
    "            preprocessed_data = data.reshape((np.prod(data.shape[:3]), data.shape[3]))\n",
    "            subject_data.append(preprocessed_data)\n",
    "    return subject_data\n",
    "\n",
    "def load_mystery_subjects_data(data_dir):\n",
    "    subject_data = []\n",
    "    files = sorted(os.listdir(data_dir), key=lambda x: ord(re.search(r'[A-Q]', x).group()))\n",
    "    for file in files:\n",
    "        if file.startswith(\"sherlock\"):\n",
    "            data = nib.load(os.path.join(data_dir, file)).get_fdata()\n",
    "            data = data[..., :300]  # Keep only the first 300 TRs\n",
    "            preprocessed_data = data.reshape((np.prod(data.shape[:3]), data.shape[3]))\n",
    "            subject_data.append(preprocessed_data)\n",
    "    return subject_data\n",
    "\n",
    "known_subjects_data_dir = \"/gpfs/gibbs/project/cmhn/data/Sherlock_processed/mystery_segments_q2/\"\n",
    "known_subjects_data = load_known_subjects_data(known_subjects_data_dir)\n",
    "\n",
    "mystery_subjects_data_dir = \"/gpfs/gibbs/project/cmhn/data/Sherlock_processed/mystery_subjects_q4/\"\n",
    "mystery_subjects_data = load_mystery_subjects_data(mystery_subjects_data_dir)\n",
    "\n",
    "np.random.seed(0)\n",
    "\n",
    "mystery_subject_labels = []\n",
    "for mystery_subject_data in mystery_subjects_data:\n",
    "    # create a new dataset that includes the mystery subject's data\n",
    "    combined_subjects_data = known_subjects_data + [mystery_subject_data]\n",
    "\n",
    "    # train SRM on the combined dataset\n",
    "    srm = SRM(n_iter=10, features=25)\n",
    "    srm.fit(combined_subjects_data)\n",
    "\n",
    "    # project the data onto the shared space\n",
    "    shared_subjects_data = srm.transform(combined_subjects_data)\n",
    "\n",
    "    # calculate correlations between the known participants and the mystery subject\n",
    "    correlations = np.corrcoef([subj.ravel() for subj in shared_subjects_data])\n",
    "    correlations = correlations[:len(known_subjects_data), -1]\n",
    "\n",
    "    # find the best match for the mystery subject\n",
    "    best_match = np.argmax(correlations) + 1\n",
    "    mystery_subject_labels.append(best_match)\n",
    "\n",
    "print(\"Mystery subject labels:\", mystery_subject_labels)"
   ]
  },
  {
   "cell_type": "markdown",
   "metadata": {},
   "source": [
    "# Help\n",
    "\n",
    "This section contains helper functions and hints that you could use to solve the questions."
   ]
  },
  {
   "cell_type": "markdown",
   "metadata": {},
   "source": [
    "**Reading excel files.**\n",
    "Pandas provides a nice interface to load excel files into dataframes."
   ]
  },
  {
   "cell_type": "code",
   "execution_count": 5,
   "metadata": {
    "tags": []
   },
   "outputs": [
    {
     "data": {
      "text/html": [
       "<div>\n",
       "<style scoped>\n",
       "    .dataframe tbody tr th:only-of-type {\n",
       "        vertical-align: middle;\n",
       "    }\n",
       "\n",
       "    .dataframe tbody tr th {\n",
       "        vertical-align: top;\n",
       "    }\n",
       "\n",
       "    .dataframe thead th {\n",
       "        text-align: right;\n",
       "    }\n",
       "</style>\n",
       "<table border=\"1\" class=\"dataframe\">\n",
       "  <thead>\n",
       "    <tr style=\"text-align: right;\">\n",
       "      <th></th>\n",
       "      <th>Segment Number</th>\n",
       "      <th>Scene Title</th>\n",
       "      <th>Start Time (s)</th>\n",
       "      <th>End Time (s)</th>\n",
       "      <th>Start TR</th>\n",
       "      <th>Scene Details - A Level</th>\n",
       "      <th>Scene Details - B Level</th>\n",
       "      <th>Original B Levels (Janice) fixed</th>\n",
       "      <th>Space-In/Outdoor</th>\n",
       "      <th>Who-N/G/M</th>\n",
       "      <th>...</th>\n",
       "      <th>Name - Focus</th>\n",
       "      <th>Name - Speaking</th>\n",
       "      <th>Location</th>\n",
       "      <th>Camera Angle</th>\n",
       "      <th>Words on Screen</th>\n",
       "      <th>Music Presence</th>\n",
       "      <th>Temporal Relationship</th>\n",
       "      <th>Type of Jump</th>\n",
       "      <th>Arousal</th>\n",
       "      <th>valence</th>\n",
       "    </tr>\n",
       "  </thead>\n",
       "  <tbody>\n",
       "    <tr>\n",
       "      <th>0</th>\n",
       "      <td>1.0</td>\n",
       "      <td>Cartoon Intro</td>\n",
       "      <td>0.0</td>\n",
       "      <td>12.0</td>\n",
       "      <td>0.0</td>\n",
       "      <td>People in popcorn, candy, and soft drink costu...</td>\n",
       "      <td>1. Cartoon introduction - singers repeat \"Let'...</td>\n",
       "      <td>1. Cartoon</td>\n",
       "      <td>Indoor</td>\n",
       "      <td>G</td>\n",
       "      <td>...</td>\n",
       "      <td>Cartoon People in Costumes</td>\n",
       "      <td>Cartoon People in Costumes</td>\n",
       "      <td>Cartoon World</td>\n",
       "      <td>Long</td>\n",
       "      <td>NaN</td>\n",
       "      <td>Yes</td>\n",
       "      <td>NaN</td>\n",
       "      <td>NaN</td>\n",
       "      <td>3.0</td>\n",
       "      <td>+</td>\n",
       "    </tr>\n",
       "    <tr>\n",
       "      <th>1</th>\n",
       "      <td>2.0</td>\n",
       "      <td>NaN</td>\n",
       "      <td>12.0</td>\n",
       "      <td>15.0</td>\n",
       "      <td>8.0</td>\n",
       "      <td>Popcorn is being popped in a large popcorn mac...</td>\n",
       "      <td>Segment 1-7</td>\n",
       "      <td>NaN</td>\n",
       "      <td>Indoor</td>\n",
       "      <td>G</td>\n",
       "      <td>...</td>\n",
       "      <td>NaN</td>\n",
       "      <td>Female Singer</td>\n",
       "      <td>Cartoon World</td>\n",
       "      <td>Medium</td>\n",
       "      <td>NaN</td>\n",
       "      <td>Yes</td>\n",
       "      <td>NaN</td>\n",
       "      <td>NaN</td>\n",
       "      <td>3.0</td>\n",
       "      <td>+</td>\n",
       "    </tr>\n",
       "    <tr>\n",
       "      <th>2</th>\n",
       "      <td>3.0</td>\n",
       "      <td>NaN</td>\n",
       "      <td>15.0</td>\n",
       "      <td>17.0</td>\n",
       "      <td>10.0</td>\n",
       "      <td>Men sing in reply: \"the popcorn can't be beat!\"</td>\n",
       "      <td></td>\n",
       "      <td>NaN</td>\n",
       "      <td>Indoor</td>\n",
       "      <td>G</td>\n",
       "      <td>...</td>\n",
       "      <td>NaN</td>\n",
       "      <td>Male Singers</td>\n",
       "      <td>Cartoon World</td>\n",
       "      <td>Medium</td>\n",
       "      <td>NaN</td>\n",
       "      <td>Yes</td>\n",
       "      <td>NaN</td>\n",
       "      <td>NaN</td>\n",
       "      <td>3.0</td>\n",
       "      <td>+</td>\n",
       "    </tr>\n",
       "    <tr>\n",
       "      <th>3</th>\n",
       "      <td>4.0</td>\n",
       "      <td>NaN</td>\n",
       "      <td>17.0</td>\n",
       "      <td>23.0</td>\n",
       "      <td>11.0</td>\n",
       "      <td>A family of four, a father with a black suit, ...</td>\n",
       "      <td></td>\n",
       "      <td>NaN</td>\n",
       "      <td>Indoor</td>\n",
       "      <td>G</td>\n",
       "      <td>...</td>\n",
       "      <td>NaN</td>\n",
       "      <td>Background Singers</td>\n",
       "      <td>Cartoon World</td>\n",
       "      <td>Medium</td>\n",
       "      <td>NaN</td>\n",
       "      <td>Yes</td>\n",
       "      <td>NaN</td>\n",
       "      <td>NaN</td>\n",
       "      <td>3.0</td>\n",
       "      <td>+</td>\n",
       "    </tr>\n",
       "    <tr>\n",
       "      <th>4</th>\n",
       "      <td>5.0</td>\n",
       "      <td>NaN</td>\n",
       "      <td>23.0</td>\n",
       "      <td>29.0</td>\n",
       "      <td>15.0</td>\n",
       "      <td>A view of the lobby with a display of snacks f...</td>\n",
       "      <td></td>\n",
       "      <td>NaN</td>\n",
       "      <td>Indoor</td>\n",
       "      <td>G</td>\n",
       "      <td>...</td>\n",
       "      <td>Cartoon Woman</td>\n",
       "      <td>Background Singers</td>\n",
       "      <td>Cartoon World</td>\n",
       "      <td>Medium</td>\n",
       "      <td>NaN</td>\n",
       "      <td>Yes</td>\n",
       "      <td>NaN</td>\n",
       "      <td>NaN</td>\n",
       "      <td>3.0</td>\n",
       "      <td>+</td>\n",
       "    </tr>\n",
       "  </tbody>\n",
       "</table>\n",
       "<p>5 rows × 21 columns</p>\n",
       "</div>"
      ],
      "text/plain": [
       "   Segment Number    Scene Title   Start Time (s)    End Time (s)   Start TR  \\\n",
       "0             1.0  Cartoon Intro               0.0            12.0       0.0   \n",
       "1             2.0             NaN             12.0            15.0       8.0   \n",
       "2             3.0             NaN             15.0            17.0      10.0   \n",
       "3             4.0             NaN             17.0            23.0      11.0   \n",
       "4             5.0             NaN             23.0            29.0      15.0   \n",
       "\n",
       "                            Scene Details - A Level   \\\n",
       "0  People in popcorn, candy, and soft drink costu...   \n",
       "1  Popcorn is being popped in a large popcorn mac...   \n",
       "2    Men sing in reply: \"the popcorn can't be beat!\"   \n",
       "3  A family of four, a father with a black suit, ...   \n",
       "4  A view of the lobby with a display of snacks f...   \n",
       "\n",
       "                             Scene Details - B Level  \\\n",
       "0  1. Cartoon introduction - singers repeat \"Let'...   \n",
       "1                                        Segment 1-7   \n",
       "2                                                      \n",
       "3                                                      \n",
       "4                                                      \n",
       "\n",
       "  Original B Levels (Janice) fixed Space-In/Outdoor Who-N/G/M  ...  \\\n",
       "0                       1. Cartoon           Indoor         G  ...   \n",
       "1                              NaN           Indoor         G  ...   \n",
       "2                              NaN           Indoor         G  ...   \n",
       "3                              NaN           Indoor         G  ...   \n",
       "4                              NaN           Indoor         G  ...   \n",
       "\n",
       "                  Name - Focus              Name - Speaking       Location  \\\n",
       "0  Cartoon People in Costumes   Cartoon People in Costumes   Cartoon World   \n",
       "1                          NaN                Female Singer  Cartoon World   \n",
       "2                          NaN                 Male Singers  Cartoon World   \n",
       "3                          NaN           Background Singers  Cartoon World   \n",
       "4                Cartoon Woman           Background Singers  Cartoon World   \n",
       "\n",
       "  Camera Angle Words on Screen  Music Presence  Temporal Relationship   \\\n",
       "0         Long              NaN             Yes                    NaN   \n",
       "1       Medium              NaN             Yes                    NaN   \n",
       "2       Medium              NaN             Yes                    NaN   \n",
       "3       Medium              NaN             Yes                    NaN   \n",
       "4       Medium              NaN             Yes                    NaN   \n",
       "\n",
       "  Type of Jump  Arousal  valence  \n",
       "0          NaN      3.0        +  \n",
       "1          NaN      3.0        +  \n",
       "2          NaN      3.0        +  \n",
       "3          NaN      3.0        +  \n",
       "4          NaN      3.0        +  \n",
       "\n",
       "[5 rows x 21 columns]"
      ]
     },
     "execution_count": 5,
     "metadata": {},
     "output_type": "execute_result"
    }
   ],
   "source": [
    "import pandas as pd\n",
    "data_dir ='/gpfs/gibbs/project/cmhn/data/Sherlock_processed/'\n",
    "df = pd.read_csv(data_dir + 'regressor_file.csv') # pandas plays best with csv files\n",
    "df.head()"
   ]
  },
  {
   "cell_type": "markdown",
   "metadata": {
    "tags": []
   },
   "source": [
    "**Extracting a column**\n",
    "To extract a column of values from a dataframe, the following sample code is provided. \n",
    "\n",
    "Be careful of any leading or trailing spaces in the column titles."
   ]
  },
  {
   "cell_type": "code",
   "execution_count": 6,
   "metadata": {
    "tags": []
   },
   "outputs": [
    {
     "name": "stdout",
     "output_type": "stream",
     "text": [
      "0     0.0\n",
      "1     8.0\n",
      "2    10.0\n",
      "3    11.0\n",
      "4    15.0\n",
      "5    19.0\n",
      "6    23.0\n",
      "7    26.0\n",
      "8    27.0\n",
      "9    27.0\n",
      "Name: Start TR, dtype: float64\n",
      "[ 0.  8. 10. 11. 15. 19. 23. 26. 27. 27.]\n"
     ]
    }
   ],
   "source": [
    "start= df['Start TR']\n",
    "print(start[:10]) # Just show the first 10 rows.\n",
    "\n",
    "# To turn the column into a vector of values:\n",
    "print(start.values[:10]) # Just show the first 10 values."
   ]
  },
  {
   "cell_type": "markdown",
   "metadata": {},
   "source": [
    "*Note: Start TR jumps from TR 0 to TR 8 -- meaning, the regressors don't have one row for every TR, like we've seen for other datasets. You need to handle this to properly train your classifiers!*"
   ]
  },
  {
   "cell_type": "markdown",
   "metadata": {},
   "source": [
    "**Masking data:** You will find that extracting data from a mask takes time and is memory intensive; repeating that process is unnecessary. You can apply the given masks to your data and save the masked numpy arrays in a directory in `~/palmer_scratch` if you prefer, then load that data back in whenever you want to use it."
   ]
  },
  {
   "cell_type": "markdown",
   "metadata": {},
   "source": [
    "**Helper functions:** We provided many functions in `utils.py` that help with data loading and normalization. Use them. Feel free to create your own `final_project_utils.py` with any paths, functions, etc. that you create and reuse for this project. Upload that along with this notebook."
   ]
  },
  {
   "cell_type": "code",
   "execution_count": 7,
   "metadata": {},
   "outputs": [],
   "source": [
    "%matplotlib inline\n",
    "from brainiak import image, io\n",
    "from scipy.stats import stats\n",
    "import nibabel as nib\n",
    "import numpy as np\n",
    "from matplotlib import pyplot as plt"
   ]
  },
  {
   "cell_type": "code",
   "execution_count": 8,
   "metadata": {
    "tags": []
   },
   "outputs": [
    {
     "data": {
      "text/plain": [
       "<matplotlib.image.AxesImage at 0x2b8f7587f190>"
      ]
     },
     "execution_count": 8,
     "metadata": {},
     "output_type": "execute_result"
    },
    {
     "data": {
      "image/png": "[encoded data removed]",
      "text/plain": [
       "<Figure size 640x480 with 1 Axes>"
      ]
     },
     "metadata": {},
     "output_type": "display_data"
    }
   ],
   "source": [
    "# Load in the PMC mask\n",
    "from brainiak import image, io\n",
    "data_dir = '/gpfs/gibbs/project/cmhn/data/Sherlock_processed/'\n",
    "mask_file= data_dir + 'masks/pmc_nn.nii'\n",
    "pmc_mask = io.load_boolean_mask(mask_file)\n",
    "plt.imshow(pmc_mask[:,:,30]) #30th Z slice"
   ]
  },
  {
   "cell_type": "code",
   "execution_count": 9,
   "metadata": {},
   "outputs": [
    {
     "data": {
      "text/plain": [
       "<matplotlib.image.AxesImage at 0x2b8f75a80c10>"
      ]
     },
     "execution_count": 9,
     "metadata": {},
     "output_type": "execute_result"
    },
    {
     "data": {
      "image/png": "[encoded data removed]",
      "text/plain": [
       "<Figure size 640x480 with 1 Axes>"
      ]
     },
     "metadata": {},
     "output_type": "display_data"
    }
   ],
   "source": [
    "# Load in the whole brain mask\n",
    "mask_file= data_dir + 'masks/MNI152_T1_3mm_brain_mask.nii'\n",
    "brain_mask = io.load_boolean_mask(mask_file)\n",
    "plt.imshow(brain_mask[:,:,30]) #30th Z slice"
   ]
  },
  {
   "cell_type": "code",
   "execution_count": 10,
   "metadata": {},
   "outputs": [
    {
     "data": {
      "text/plain": [
       "<matplotlib.image.AxesImage at 0x2b8f75b05e90>"
      ]
     },
     "execution_count": 10,
     "metadata": {},
     "output_type": "execute_result"
    },
    {
     "data": {
      "image/png": "[encoded data removed]",
      "text/plain": [
       "<Figure size 640x480 with 1 Axes>"
      ]
     },
     "metadata": {},
     "output_type": "display_data"
    }
   ],
   "source": [
    "# Load in the intersect mask -- where all subjects have the same voxels present\n",
    "mask_file= data_dir + 'masks/intersect_mask.nii.gz'\n",
    "intersect_mask = io.load_boolean_mask(mask_file)\n",
    "plt.imshow(intersect_mask[:,:,30]) #30th Z slice\n"
   ]
  }
 ],
 "metadata": {
  "anaconda-cloud": {},
  "kernelspec": {
   "display_name": "Python 3 (ipykernel)",
   "language": "python",
   "name": "python3"
  },
  "language_info": {
   "codemirror_mode": {
    "name": "ipython",
    "version": 3
   },
   "file_extension": ".py",
   "mimetype": "text/x-python",
   "name": "python",
   "nbconvert_exporter": "python",
   "pygments_lexer": "ipython3",
   "version": "3.7.9"
  }
 },
 "nbformat": 4,
 "nbformat_minor": 4
}
